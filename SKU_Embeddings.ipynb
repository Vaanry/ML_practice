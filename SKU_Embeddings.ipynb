{
 "cells": [
  {
   "cell_type": "markdown",
   "id": "696c5635",
   "metadata": {},
   "source": [
    "User-Item матрица. Загрузка данных."
   ]
  },
  {
   "cell_type": "code",
   "execution_count": 42,
   "id": "0963f18e",
   "metadata": {},
   "outputs": [
    {
     "data": {
      "text/html": [
       "<div>\n",
       "<style scoped>\n",
       "    .dataframe tbody tr th:only-of-type {\n",
       "        vertical-align: middle;\n",
       "    }\n",
       "\n",
       "    .dataframe tbody tr th {\n",
       "        vertical-align: top;\n",
       "    }\n",
       "\n",
       "    .dataframe thead th {\n",
       "        text-align: right;\n",
       "    }\n",
       "</style>\n",
       "<table border=\"1\" class=\"dataframe\">\n",
       "  <thead>\n",
       "    <tr style=\"text-align: right;\">\n",
       "      <th></th>\n",
       "      <th>user_id</th>\n",
       "      <th>item_id</th>\n",
       "      <th>qty</th>\n",
       "      <th>price</th>\n",
       "    </tr>\n",
       "  </thead>\n",
       "  <tbody>\n",
       "    <tr>\n",
       "      <th>0</th>\n",
       "      <td>1</td>\n",
       "      <td>12224</td>\n",
       "      <td>1</td>\n",
       "      <td>1137.15</td>\n",
       "    </tr>\n",
       "    <tr>\n",
       "      <th>1</th>\n",
       "      <td>1</td>\n",
       "      <td>14816</td>\n",
       "      <td>1</td>\n",
       "      <td>700.00</td>\n",
       "    </tr>\n",
       "    <tr>\n",
       "      <th>2</th>\n",
       "      <td>1</td>\n",
       "      <td>17872</td>\n",
       "      <td>1</td>\n",
       "      <td>672.60</td>\n",
       "    </tr>\n",
       "    <tr>\n",
       "      <th>3</th>\n",
       "      <td>1</td>\n",
       "      <td>23481</td>\n",
       "      <td>1</td>\n",
       "      <td>1965.00</td>\n",
       "    </tr>\n",
       "    <tr>\n",
       "      <th>4</th>\n",
       "      <td>2</td>\n",
       "      <td>1197</td>\n",
       "      <td>3</td>\n",
       "      <td>986.00</td>\n",
       "    </tr>\n",
       "  </tbody>\n",
       "</table>\n",
       "</div>"
      ],
      "text/plain": [
       "   user_id  item_id  qty    price\n",
       "0        1    12224    1  1137.15\n",
       "1        1    14816    1   700.00\n",
       "2        1    17872    1   672.60\n",
       "3        1    23481    1  1965.00\n",
       "4        2     1197    3   986.00"
      ]
     },
     "execution_count": 42,
     "metadata": {},
     "output_type": "execute_result"
    }
   ],
   "source": [
    "import pandas as pd\n",
    "import numpy as np\n",
    "df = pd.read_csv('user_item_matrix_1.csv')\n",
    "df.head()"
   ]
  },
  {
   "cell_type": "markdown",
   "id": "1ce76ae8",
   "metadata": {},
   "source": [
    "Sparce matrix.\n",
    "Создание разряжённой матрицы из датафрейма."
   ]
  },
  {
   "cell_type": "code",
   "execution_count": 43,
   "id": "33b96532",
   "metadata": {},
   "outputs": [],
   "source": [
    "from typing import Dict\n",
    "\n",
    "import pandas as pd\n",
    "from scipy.sparse import csr_matrix\n",
    "\n",
    "\n",
    "class UserItemMatrix:\n",
    "    def __init__(self, sales_data: pd.DataFrame):\n",
    "        \"\"\"Class initialization. You can make necessary\n",
    "        calculations here.\n",
    "\n",
    "        Args:\n",
    "            sales_data (pd.DataFrame): Sales dataset.\n",
    "\n",
    "        Example:\n",
    "            sales_data (pd.DataFrame):\n",
    "\n",
    "               user_id  item_id  qty    price\n",
    "            0        1      118    1   626.66\n",
    "            1        1      285    1  1016.57\n",
    "            2        2     1229    3   518.99\n",
    "            3        4     1688    2   940.84\n",
    "            4        5     2068    1   571.36\n",
    "            ...\n",
    "\n",
    "        \"\"\"\n",
    "        self._data = sales_data\n",
    "        \n",
    "    @property\n",
    "    def sales_data(self):\n",
    "        return self._data\n",
    "    \n",
    "    @property\n",
    "    def user_count(self) -> int:\n",
    "        \"\"\"\n",
    "        Returns:\n",
    "            int: the number of users in sales_data.\n",
    "        \"\"\"\n",
    "        return self._data['user_id'].nunique()\n",
    "\n",
    "    @property\n",
    "    def item_count(self) -> int:\n",
    "        \"\"\"\n",
    "        Returns:\n",
    "            int: the number of items in sales_data.\n",
    "        \"\"\"\n",
    "        return self._data['item_id'].nunique()\n",
    "    \n",
    "    @property\n",
    "    def user_map(self) -> Dict[int, int]:\n",
    "        \"\"\"Creates a mapping from user_id to matrix rows indexes.\n",
    "\n",
    "        Example:\n",
    "            sales_data (pd.DataFrame):\n",
    "\n",
    "                user_id  item_id  qty    price\n",
    "            0        1      118    1   626.66\n",
    "            1        1      285    1  1016.57\n",
    "            2        2     1229    3   518.99\n",
    "            3        4     1688    2   940.84\n",
    "            4        5     2068    1   571.36\n",
    "\n",
    "            user_map (Dict[int, int]):\n",
    "                {1: 0, 2: 1, 4: 2, 5: 3}\n",
    "\n",
    "        Returns:\n",
    "            Dict[int, int]: User map\n",
    "        \"\"\"\n",
    "        \n",
    "        return {user:i for i, user in enumerate (self._data['user_id'].unique())}\n",
    "\n",
    "    @property\n",
    "    def item_map(self) -> Dict[int, int]:\n",
    "        \"\"\"Creates a mapping from user_id to matrix rows indexes.\n",
    "\n",
    "        Example:\n",
    "            sales_data (pd.DataFrame):\n",
    "\n",
    "                user_id  item_id  qty    price\n",
    "            0        1      118    1   626.66\n",
    "            1        1      285    1  1016.57\n",
    "            2        2     1229    3   518.99\n",
    "            3        4     1688    2   940.84\n",
    "            4        5     2068    1   571.36\n",
    "\n",
    "            item_map (Dict[int, int]):\n",
    "                {118: 0, 285: 1, 1229: 2, 1688: 3, 2068: 4}\n",
    "\n",
    "        Returns:\n",
    "            Dict[int, int]: Item map\n",
    "        \"\"\"\n",
    "        return {item:i for i, item in enumerate (self._data['item_id'].unique())}\n",
    "\n",
    "    @property\n",
    "    def csr_matrix(self) -> csr_matrix:\n",
    "        \"\"\"User items matrix in form of CSR matrix.\n",
    "\n",
    "        User row_ind, col_ind as\n",
    "        rows and cols indecies (mapped from user/item map).\n",
    "\n",
    "        Returns:\n",
    "            csr_matrix: CSR matrix\n",
    "        \"\"\"\n",
    "        user_item_matrix = self._data.pivot(index='user_id', \n",
    "                                  columns='item_id', \n",
    "                                  values='qty').fillna(0)\n",
    "        return csr_matrix(user_item_matrix)"
   ]
  },
  {
   "cell_type": "markdown",
   "id": "febced52",
   "metadata": {},
   "source": [
    "Matrix Normalization"
   ]
  },
  {
   "cell_type": "code",
   "execution_count": 44,
   "id": "6fd329b4",
   "metadata": {},
   "outputs": [],
   "source": [
    "user_item = UserItemMatrix(df)\n",
    "matrix = user_item.csr_matrix"
   ]
  },
  {
   "cell_type": "code",
   "execution_count": 4,
   "id": "944891c8",
   "metadata": {},
   "outputs": [],
   "source": [
    "from scipy.sparse import csr_matrix\n",
    "from sklearn.preprocessing import normalize\n",
    "\n",
    "class Normalization:\n",
    "    @staticmethod\n",
    "    def by_column(matrix: csr_matrix) -> csr_matrix:\n",
    "        \"\"\"Normalization by column\n",
    "\n",
    "        Args:\n",
    "            matrix (csr_matrix): User-Item matrix of size (N, M)\n",
    "\n",
    "        Returns:\n",
    "            csr_matrix: Normalized matrix of size (N, M)\n",
    "        \"\"\"\n",
    "        norm_matrix = normalize(matrix, norm='l1', axis=0)\n",
    "        return norm_matrix\n",
    "\n",
    "    @staticmethod\n",
    "    def by_row(matrix: csr_matrix) -> csr_matrix:\n",
    "        \"\"\"Normalization by row\n",
    "\n",
    "        Args:\n",
    "            matrix (csr_matrix): User-Item matrix of size (N, M)\n",
    "\n",
    "        Returns:\n",
    "            csr_matrix: Normalized matrix of size (N, M)\n",
    "        \"\"\"\n",
    "        norm_matrix = normalize(matrix, norm='l1', axis=1)\n",
    "        return norm_matrix\n",
    "\n",
    "    @staticmethod\n",
    "    def tf_idf(matrix: csr_matrix) -> csr_matrix:\n",
    "        \"\"\"Normalization using tf-idf\n",
    "\n",
    "        Args:\n",
    "            matrix (csr_matrix): User-Item matrix of size (N, M)\n",
    "\n",
    "        Returns:\n",
    "            csr_matrix: Normalized matrix of size (N, M)\n",
    "        \"\"\"\n",
    "        tf = normalize(matrix, norm='l1', axis=1)\n",
    "        idf = normalize(matrix, norm='l1', axis=0).log1p()\n",
    "        norm_matrix = tf.multiply(idf)\n",
    "\n",
    "        return norm_matrix\n",
    "\n",
    "    @staticmethod\n",
    "    def bm_25(\n",
    "        matrix: csr_matrix, k1: float = 2.0, b: float = 0.75\n",
    "    ) -> csr_matrix:\n",
    "        \"\"\"Normalization based on BM-25\n",
    "\n",
    "        Args:\n",
    "            matrix (csr_matrix): User-Item matrix of size (N, M)\n",
    "\n",
    "        Returns:\n",
    "            csr_matrix: Normalized matrix of size (N, M)\n",
    "        \"\"\"\n",
    "        avgdl = matrix.sum(axis=1).mean()\n",
    "        d = matrix.sum(axis=1)\n",
    "        tf = normalize(matrix, norm='l1', axis=1)\n",
    "        idf = normalize(matrix, norm='l1', axis=0).log1p()\n",
    "        norm_matrix = idf.multiply((tf.multiply(k1 + 1)) / (tf + k1 * (1 - b + b * (d / avgdl))))\n",
    "        return norm_matrix\n"
   ]
  },
  {
   "cell_type": "code",
   "execution_count": 45,
   "id": "835934a5",
   "metadata": {},
   "outputs": [],
   "source": [
    "n = Normalization()\n",
    "norm_matrix = n.bm_25(matrix)"
   ]
  },
  {
   "cell_type": "markdown",
   "id": "768a9439",
   "metadata": {},
   "source": [
    "Построение эмбедингов"
   ]
  },
  {
   "cell_type": "code",
   "execution_count": 65,
   "id": "115eed4b",
   "metadata": {},
   "outputs": [],
   "source": [
    "import numpy as np\n",
    "import implicit\n",
    "from scipy.sparse import csr_matrix\n",
    "\n",
    "\n",
    "def items_embeddings(ui_matrix: csr_matrix, dim: int, item_map: dict) -> np.ndarray:\n",
    "    \"\"\"Build items embedding using factorization model.\n",
    "    The order of items should be the same in the output matrix.\n",
    "\n",
    "    Args:\n",
    "        ui_matrix (csr_matrix): User-Item matrix of size (N, M)\n",
    "        dim (int): Dimention of embedding vectors\n",
    "        item_map (dict): items indexes\n",
    "\n",
    "    Returns:\n",
    "        np.ndarray: Items embeddings matrix of size (M, dim)\n",
    "    \"\"\"\n",
    "    model = implicit.nearest_neighbours.CosineRecommender(K=dim)\n",
    "    model.fit(ui_matrix.T.tocsr())    \n",
    "    items = np.array(list(item_map.values()))\n",
    "    items_vec = model.similar_items(itemid=items, N=dim, item_users=ui_matrix.tocsr())[0]    \n",
    "    return items_vec"
   ]
  },
  {
   "cell_type": "code",
   "execution_count": 66,
   "id": "eb0b90ca",
   "metadata": {},
   "outputs": [
    {
     "name": "stderr",
     "output_type": "stream",
     "text": [
      "C:\\Users\\Vaanry\\anaconda3\\lib\\site-packages\\implicit\\utils.py:164: ParameterWarning: Method expects CSR input, and was passed coo_matrix instead. Converting to CSR took 0.015626192092895508 seconds\n",
      "  warnings.warn(\n"
     ]
    },
    {
     "data": {
      "application/vnd.jupyter.widget-view+json": {
       "model_id": "717bf7ea721442c8a75417090564ca7f",
       "version_major": 2,
       "version_minor": 0
      },
      "text/plain": [
       "HBox(children=(IntProgress(value=0, max=38101), HTML(value='')))"
      ]
     },
     "metadata": {},
     "output_type": "display_data"
    },
    {
     "name": "stdout",
     "output_type": "stream",
     "text": [
      "\n"
     ]
    },
    {
     "data": {
      "text/plain": [
       "array([[    0, 34139,   662, 15624,  9291],\n",
       "       [    1, 33905,   253,   155, 31710],\n",
       "       [    2, 13174, 13916, 13162, 13883],\n",
       "       ...,\n",
       "       [27750, 33636, 15382, 20396, 26145],\n",
       "       [27751, 25659, 30847, 37605, 18898],\n",
       "       [27752, 30971, 26122, 29756, 21883]])"
      ]
     },
     "execution_count": 66,
     "metadata": {},
     "output_type": "execute_result"
    }
   ],
   "source": [
    "item_map = user_item.item_map\n",
    "items_embeddings(norm_matrix, 5, item_map)"
   ]
  },
  {
   "cell_type": "code",
   "execution_count": null,
   "id": "f2405127",
   "metadata": {},
   "outputs": [],
   "source": []
  }
 ],
 "metadata": {
  "kernelspec": {
   "display_name": "Python 3 (ipykernel)",
   "language": "python",
   "name": "python3"
  },
  "language_info": {
   "codemirror_mode": {
    "name": "ipython",
    "version": 3
   },
   "file_extension": ".py",
   "mimetype": "text/x-python",
   "name": "python",
   "nbconvert_exporter": "python",
   "pygments_lexer": "ipython3",
   "version": "3.9.13"
  }
 },
 "nbformat": 4,
 "nbformat_minor": 5
}
