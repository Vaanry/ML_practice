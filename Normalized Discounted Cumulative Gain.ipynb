{
 "cells": [
  {
   "cell_type": "markdown",
   "id": "878bbcd8",
   "metadata": {},
   "source": [
    "#### nDCG"
   ]
  },
  {
   "cell_type": "markdown",
   "id": "02d33575",
   "metadata": {},
   "source": [
    "nDCG (Normalized Discounted Cumulative Gain) – популярная метрика в задаче ранжирования, которая учитывает порядок элементов в выдаче. Мы поэтапно разберёмся, что означает каждая буква в данной аббревиатуре, одну за другой реализовав метрики CG, DCG и nDCG.  "
   ]
  },
  {
   "cell_type": "code",
   "execution_count": 1,
   "id": "7eae2f47",
   "metadata": {},
   "outputs": [],
   "source": [
    "import warnings\n",
    "warnings.filterwarnings('ignore')"
   ]
  },
  {
   "cell_type": "markdown",
   "id": "822a41af",
   "metadata": {},
   "source": [
    "#### Cumulative Gaine\n",
    "Что бы понять, какая модель ранжирует лучше, давайте для двух версий приложения сложим численные оценки релевантности, которые мы ввели ранее."
   ]
  },
  {
   "cell_type": "code",
   "execution_count": 16,
   "id": "52a9031b",
   "metadata": {},
   "outputs": [],
   "source": [
    "from typing import List\n",
    "\n",
    "import numpy as np\n",
    "\n",
    "\n",
    "def cumulative_gain(relevance: List[float], k: int) -> float:\n",
    "    \"\"\"Score is cumulative gain at k (CG@k)\n",
    "\n",
    "    Parameters\n",
    "    ----------\n",
    "    relevance:  `List[float]`\n",
    "        Relevance labels (Ranks)\n",
    "    k : `int`\n",
    "        Number of elements to be counted\n",
    "\n",
    "    Returns\n",
    "    -------\n",
    "    score : float\n",
    "    \"\"\"\n",
    "    #top_relevance = sorted(relevance, reverse=True)\n",
    "    score = np.sum(relevance[:k])\n",
    "    return score"
   ]
  },
  {
   "cell_type": "code",
   "execution_count": 17,
   "id": "1d48c0d2",
   "metadata": {},
   "outputs": [
    {
     "name": "stdout",
     "output_type": "stream",
     "text": [
      "4.26\n"
     ]
    }
   ],
   "source": [
    "relevance = [0.99, 0.94, 0.88, 0.74, 0.71, 0.68]\n",
    "k = 5\n",
    "print(cumulative_gain(relevance, k))"
   ]
  },
  {
   "cell_type": "markdown",
   "id": "23442d52",
   "metadata": {},
   "source": [
    "#### Discounted Cumulative Gain\n",
    "\n",
    "Функция для подсчёта DCG.\n",
    "\n",
    "DCG@k=∑i=1klog2(i+1)reli"
   ]
  },
  {
   "cell_type": "code",
   "execution_count": null,
   "id": "8e521b9d",
   "metadata": {},
   "outputs": [],
   "source": [
    "\n",
    "from typing import List\n",
    "\n",
    "import numpy as np\n",
    "\n",
    "\n",
    "def discounted_cumulative_gain(relevance: List[float], k: int, method: str = \"standard\") -> float:\n",
    "    \"\"\"Discounted Cumulative Gain\n",
    "\n",
    "    Parameters\n",
    "    ----------\n",
    "    relevance : `List[float]`\n",
    "        Video relevance list\n",
    "    k : `int`\n",
    "        Count relevance to compute\n",
    "    method : `str`, optional\n",
    "        Metric implementation method, takes the values \\\n",
    "            `standard` and `industry`\n",
    "\n",
    "    Returns\n",
    "    -------\n",
    "    score : `float`\n",
    "        Metric score\n",
    "    \"\"\"    \n",
    "    score = 0\n",
    "    if method == \"industry\":\n",
    "        for i, v in enumerate(relevance[:k], 1):\n",
    "            score += (2*v-1)/np.log2(i+1)\n",
    "            return score\n",
    "    for i, v in enumerate(relevance[:k], 1):\n",
    "        score += v/np.log2(i+1)\n",
    "    return score"
   ]
  },
  {
   "cell_type": "code",
   "execution_count": 23,
   "id": "a8899758",
   "metadata": {},
   "outputs": [
    {
     "name": "stdout",
     "output_type": "stream",
     "text": [
      "2.6164401144680056\n"
     ]
    }
   ],
   "source": [
    "relevance = [0.99, 0.94, 0.88, 0.74, 0.71, 0.68]\n",
    "k = 5\n",
    "method = 'standard'\n",
    "print(discounted_cumulative_gain(relevance, k, method))"
   ]
  },
  {
   "cell_type": "markdown",
   "id": "6cb7f853",
   "metadata": {},
   "source": [
    "#### Normalized Discounted Cumulative Gain\n",
    "\n",
    "DCG@k - не нормированная метрика, что усложняют задачу сравнения. Один из простых методов нормирования — поделить на максимальное число. Что если мы посчитаем уже известную нам DCG, но изначально отсортируем релевантности в порядке убывания. Мы получим максимальное значение DCG для конкретного запроса и заданного набора выдачи (параметр k) или IDCG (Ideal Discounted Cumulaive Gain). \n",
    "\n",
    "Теперь, что бы получить nDCG (Normalized Discounted Cumulative Gain) достаточно поделить DCG на IDCG, а метрика станет нормированной от 0 до 1.  "
   ]
  },
  {
   "cell_type": "code",
   "execution_count": 24,
   "id": "2e2cf240",
   "metadata": {},
   "outputs": [],
   "source": [
    "from typing import List\n",
    "\n",
    "import numpy as np\n",
    "\n",
    "\n",
    "def normalized_dcg(relevance: List[float], k: int, method: str = \"standard\") -> float:\n",
    "    \"\"\"Normalized Discounted Cumulative Gain.\n",
    "\n",
    "    Parameters\n",
    "    ----------\n",
    "    relevance : `List[float]`\n",
    "        Video relevance list\n",
    "    k : `int`\n",
    "        Count relevance to compute\n",
    "    method : `str`, optional\n",
    "        Metric implementation method,\n",
    "        takes the values `standard` and `industry`\n",
    "\n",
    "    Returns\n",
    "    -------\n",
    "    score : `float`\n",
    "        Metric score\n",
    "    \"\"\"\n",
    "    dcg = 0\n",
    "    idcg = 0\n",
    "    if method == \"industry\":\n",
    "        for i, v in enumerate(relevance[:k], 1):\n",
    "            dcg += (2*v-1)/np.log2(i+1)\n",
    "            \n",
    "        for i, v in enumerate(sorted(relevance[:k], reverse = True), 1):\n",
    "            idcg += (2*v-1)/np.log2(i+1)\n",
    "\n",
    "    else:   \n",
    "        for i, v in enumerate(relevance[:k], 1):\n",
    "            dcg += v/np.log2(i+1)  \n",
    "\n",
    "        for i, v in enumerate(sorted(relevance[:k], reverse = True), 1):\n",
    "            idcg += v/np.log2(i+1)\n",
    "    score = dcg/idcg\n",
    "    return score"
   ]
  },
  {
   "cell_type": "code",
   "execution_count": 25,
   "id": "7af66c01",
   "metadata": {},
   "outputs": [
    {
     "name": "stdout",
     "output_type": "stream",
     "text": [
      "0.9962906539247512\n"
     ]
    }
   ],
   "source": [
    "relevance = [0.99, 0.94, 0.74, 0.88, 0.71, 0.68]\n",
    "k = 5 \n",
    "method = 'standard'\n",
    "print(normalized_dcg(relevance, k, method))"
   ]
  },
  {
   "cell_type": "markdown",
   "id": "7a6cb72a",
   "metadata": {},
   "source": [
    "#### Average Normalized Discounted Cumulative Gain\n",
    "Avarage nDCG - усредненное значение метрики nDCG по каждому запросу из множества. "
   ]
  },
  {
   "cell_type": "code",
   "execution_count": 36,
   "id": "4e7af5b0",
   "metadata": {},
   "outputs": [
    {
     "name": "stdout",
     "output_type": "stream",
     "text": [
      "0.99958\n"
     ]
    }
   ],
   "source": [
    "from typing import List\n",
    "\n",
    "import numpy as np\n",
    "\n",
    "def avg_ndcg(list_relevances: List[List[float]], k: int, method: str = 'standard') -> float:\n",
    "    \"\"\"avarage nDCG\n",
    "\n",
    "    Parameters\n",
    "    ----------\n",
    "    list_relevances : `List[List[float]]`\n",
    "        Video relevance matrix for various queries\n",
    "    k : `int`\n",
    "        Count relevance to compute\n",
    "    method : `str`, optional\n",
    "        Metric implementation method, takes the values\\\n",
    "             `standard` and `industry`\n",
    "\n",
    "    Returns\n",
    "    -------\n",
    "    score : `float`\n",
    "        Metric score\n",
    "    \"\"\"\n",
    "\n",
    "    score = np.mean(list(map(lambda x: (normalized_dcg(x, k, method)), list_relevances)))\n",
    "    return score\n",
    "\n",
    "list_relevances = [\n",
    "        [0.99, 0.94, 0.88, 0.89, 0.72, 0.65],\n",
    "        [0.99, 0.92, 0.93, 0.74, 0.61, 0.68], \n",
    "        [0.99, 0.96, 0.81, 0.73, 0.76, 0.69]\n",
    "    ]  \n",
    "k = 5\n",
    "method = 'standard'\n",
    "print(round(avg_ndcg(list_relevances, k, method), 5))"
   ]
  },
  {
   "cell_type": "code",
   "execution_count": null,
   "id": "27760349",
   "metadata": {},
   "outputs": [],
   "source": []
  }
 ],
 "metadata": {
  "kernelspec": {
   "display_name": "Python 3 (ipykernel)",
   "language": "python",
   "name": "python3"
  },
  "language_info": {
   "codemirror_mode": {
    "name": "ipython",
    "version": 3
   },
   "file_extension": ".py",
   "mimetype": "text/x-python",
   "name": "python",
   "nbconvert_exporter": "python",
   "pygments_lexer": "ipython3",
   "version": "3.9.13"
  }
 },
 "nbformat": 4,
 "nbformat_minor": 5
}
