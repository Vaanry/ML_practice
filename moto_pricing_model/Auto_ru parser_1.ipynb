{
 "cells": [
  {
   "cell_type": "markdown",
   "id": "4b11a3e7",
   "metadata": {},
   "source": [
    "Парсинг Auto.ru по ключевым маркам мотоциклов. Сбор информации о марке, модели, годе выпуска, объёме двигателя, пробеге и цене."
   ]
  },
  {
   "cell_type": "code",
   "execution_count": 1,
   "id": "d2d27582",
   "metadata": {},
   "outputs": [],
   "source": [
    "from time import sleep\n",
    "from selenium import webdriver\n",
    "from selenium.webdriver.common.by import By\n",
    "from selenium.common.exceptions import NoSuchElementException, StaleElementReferenceException\n",
    "import pandas as pd\n",
    "\n",
    "marks = ['honda',\n",
    "        'harley_davidson',\n",
    "        'bmw',\n",
    "        'ducati',\n",
    "        'indian',\n",
    "        'ktm',\n",
    "        'suzuki',\n",
    "        'yamaha',\n",
    "        'kawasaki']"
   ]
  },
  {
   "cell_type": "code",
   "execution_count": 2,
   "id": "3d8f5261",
   "metadata": {},
   "outputs": [],
   "source": [
    "options_chrome = webdriver.ChromeOptions()\n",
    "options_chrome.add_argument(\n",
    "    'user-data-dir=C:\\\\Users\\\\Vaanry\\\\Documents\\\\Учёба\\\\Web-парсинг\\\\!Проект\\\\User Data'\n",
    ")\n",
    "#options_chrome.add_argument('--headless=chrome')\n",
    "# Xpath для разных моделей могут различаться\n",
    "button_next = '//*[@id=\"bvfDHJS_QM0bLYZt1XzbJ\"]/div[9]/div/div[2]/a[2]/span/span'\n",
    "button_next_1 = '//*[@id=\"oqIaalBmL1UWPHsjqD00y\"]/div[9]/div/div/a[2]/span/span'"
   ]
  },
  {
   "cell_type": "code",
   "execution_count": 57,
   "id": "395e8146",
   "metadata": {},
   "outputs": [],
   "source": [
    "names = []\n",
    "vollumes = []\n",
    "prices = []\n",
    "years = []\n",
    "mileages = []"
   ]
  },
  {
   "cell_type": "code",
   "execution_count": 17,
   "id": "eeaf0149",
   "metadata": {},
   "outputs": [
    {
     "name": "stderr",
     "output_type": "stream",
     "text": [
      "The chromedriver version (122.0.6261.94) detected in PATH at C:\\chromedriver\\chromedriver.exe might not be compatible with the detected chrome version (123.0.6312.60); currently, chromedriver 123.0.6312.86 is recommended for chrome 123.*, so it is advised to delete the driver in PATH and retry\n"
     ]
    }
   ],
   "source": [
    "url = fr'https://auto.ru/motorcycle/harley_davidson/all/'\n",
    "driver = webdriver.Chrome(options=options_chrome)\n",
    "driver.get(url)"
   ]
  },
  {
   "cell_type": "code",
   "execution_count": null,
   "id": "4d29a35c",
   "metadata": {},
   "outputs": [],
   "source": [
    "# здесь сохранены Xpath для  HD и BMV\n",
    "\n",
    "name = f'//*[@id=\"bvfDHJS_QM0bLYZt1XzbJ\"]/div[8]/div[{i}]/div/div[2]/div[1]/h3/a'\n",
    "vollume = f'//*[@id=\"bvfDHJS_QM0bLYZt1XzbJ\"]/div[8]/div[{i}]/div/div[2]/div[1]/div/div[1]/div'\n",
    "price = f'//*[@id=\"bvfDHJS_QM0bLYZt1XzbJ\"]/div[8]/div[{i}]/div/div[2]/div[2]/div[1]/div/a/span'\n",
    "year = f'//*[@id=\"bvfDHJS_QM0bLYZt1XzbJ\"]/div[8]/div[{i}]/div/div[2]/div[3]/div'\n",
    "mileage = f'//*[@id=\"bvfDHJS_QM0bLYZt1XzbJ\"]/div[8]/div[{i}]/div/div[2]/div[4]/div[1]/div'"
   ]
  },
  {
   "cell_type": "code",
   "execution_count": null,
   "id": "8fe2404c",
   "metadata": {},
   "outputs": [],
   "source": [
    "driver.find_element(By.XPATH, name).text"
   ]
  },
  {
   "cell_type": "code",
   "execution_count": 59,
   "id": "ddfdb4da",
   "metadata": {},
   "outputs": [],
   "source": [
    "for page in range(45):\n",
    "    for i in range(2, 41):\n",
    "        \n",
    "        name = f'//*[@id=\"bvfDHJS_QM0bLYZt1XzbJ\"]/div[8]/div[{i}]/div/div[2]/div[1]/h3/a'\n",
    "        vollume = f'//*[@id=\"bvfDHJS_QM0bLYZt1XzbJ\"]/div[8]/div[{i}]/div/div[2]/div[1]/div/div[1]/div[1]'\n",
    "        price = f'//*[@id=\"bvfDHJS_QM0bLYZt1XzbJ\"]/div[8]/div[{i}]/div/div[2]/div[2]/div[1]/div/a/span'\n",
    "        year = f'//*[@id=\"bvfDHJS_QM0bLYZt1XzbJ\"]/div[8]/div[{i}]/div/div[2]/div[3]/div'\n",
    "        mileage = f'//*[@id=\"bvfDHJS_QM0bLYZt1XzbJ\"]/div[8]/div[{i}]/div/div[2]/div[4]/div[1]/div[1]'\n",
    "\n",
    "        try:\n",
    "            names.append(driver.find_element(By.XPATH, name).text)\n",
    "        except StaleElementReferenceException:\n",
    "            driver.navigate().refersh()\n",
    "            names.append(driver.find_element(By.XPATH, name).text)\n",
    "        except NoSuchElementException:\n",
    "            names.append(None)\n",
    "\n",
    "        try:\n",
    "            vollumes.append(driver.find_element(By.XPATH, vollume).text)\n",
    "        except StaleElementReferenceException:\n",
    "            driver.navigate().refersh()\n",
    "            vollumes.append(driver.find_element(By.XPATH, vollume).text)\n",
    "        except NoSuchElementException:\n",
    "            vollumes.append(None)\n",
    "\n",
    "        try:\n",
    "            years.append(driver.find_element(By.XPATH, year).text)\n",
    "        except StaleElementReferenceException:\n",
    "            driver.navigate().refersh()\n",
    "            years.append(driver.find_element(By.XPATH, year).text)\n",
    "        except NoSuchElementException:\n",
    "            years.append(None)\n",
    "\n",
    "        try:\n",
    "            prices.append(driver.find_element(By.XPATH, price).text)\n",
    "        except StaleElementReferenceException:\n",
    "            driver.navigate().refersh()\n",
    "            prices.append(driver.find_element(By.XPATH, price).text)\n",
    "        except NoSuchElementException:\n",
    "            prices.append(None)\n",
    "\n",
    "        try:\n",
    "            mileages.append(driver.find_element(By.XPATH, mileage).text)\n",
    "        except StaleElementReferenceException:\n",
    "            driver.navigate().refersh()\n",
    "            mileages.append(driver.find_element(By.XPATH, mileage).text)\n",
    "        except NoSuchElementException:\n",
    "            mileages.append(None)\n",
    "    try:\n",
    "        driver.find_element(By.XPATH, button_next).click()\n",
    "        sleep(10)\n",
    "    except StaleElementReferenceException:\n",
    "        driver.navigate().refersh()\n",
    "        driver.find_element(By.XPATH, button_next).click()\n",
    "        sleep(10)\n",
    "    except NoSuchElementException:\n",
    "        columns=['names', 'vollumes', 'prices', 'years', 'mileages']\n",
    "        values = [names, vollumes, prices, years, mileages]\n",
    "        df = pd.DataFrame({col:val for col, val in zip(columns, values)})\n",
    "        df.to_csv(f'{page}.csv', index=False)\n",
    "else:\n",
    "    print('Done')"
   ]
  },
  {
   "cell_type": "code",
   "execution_count": 56,
   "id": "6ef20fa7",
   "metadata": {},
   "outputs": [
    {
     "data": {
      "text/html": [
       "<div>\n",
       "<style scoped>\n",
       "    .dataframe tbody tr th:only-of-type {\n",
       "        vertical-align: middle;\n",
       "    }\n",
       "\n",
       "    .dataframe tbody tr th {\n",
       "        vertical-align: top;\n",
       "    }\n",
       "\n",
       "    .dataframe thead th {\n",
       "        text-align: right;\n",
       "    }\n",
       "</style>\n",
       "<table border=\"1\" class=\"dataframe\">\n",
       "  <thead>\n",
       "    <tr style=\"text-align: right;\">\n",
       "      <th></th>\n",
       "      <th>names</th>\n",
       "      <th>vollumes</th>\n",
       "      <th>prices</th>\n",
       "      <th>years</th>\n",
       "      <th>mileages</th>\n",
       "    </tr>\n",
       "  </thead>\n",
       "  <tbody>\n",
       "    <tr>\n",
       "      <th>0</th>\n",
       "      <td>Indian Springfield</td>\n",
       "      <td>1 811 см³ / 95 л.с. / 4 такта</td>\n",
       "      <td>None</td>\n",
       "      <td>2018</td>\n",
       "      <td>3 500 км</td>\n",
       "    </tr>\n",
       "    <tr>\n",
       "      <th>1</th>\n",
       "      <td>Indian Chief</td>\n",
       "      <td>1 900 см³ / 91 л.с. / 4 такта</td>\n",
       "      <td>2 290 000 ₽</td>\n",
       "      <td>2022</td>\n",
       "      <td>4 900 км</td>\n",
       "    </tr>\n",
       "    <tr>\n",
       "      <th>2</th>\n",
       "      <td>Indian Scout</td>\n",
       "      <td>1 133 см³ / 100 л.с. / 4 такта</td>\n",
       "      <td>1 190 000 ₽</td>\n",
       "      <td>2018</td>\n",
       "      <td>6 150 км</td>\n",
       "    </tr>\n",
       "    <tr>\n",
       "      <th>3</th>\n",
       "      <td>Indian FTR 1200</td>\n",
       "      <td>1 200 см³ / 4 такта</td>\n",
       "      <td>1 520 000 ₽</td>\n",
       "      <td>2022</td>\n",
       "      <td>15 140 км</td>\n",
       "    </tr>\n",
       "    <tr>\n",
       "      <th>4</th>\n",
       "      <td>Indian Challenger</td>\n",
       "      <td>1 768 см³ / 122 л.с. / 4 такта</td>\n",
       "      <td>4 990 000 ₽</td>\n",
       "      <td>2023</td>\n",
       "      <td>Новый</td>\n",
       "    </tr>\n",
       "  </tbody>\n",
       "</table>\n",
       "</div>"
      ],
      "text/plain": [
       "                names                        vollumes       prices years  \\\n",
       "0  Indian Springfield   1 811 см³ / 95 л.с. / 4 такта         None  2018   \n",
       "1        Indian Chief   1 900 см³ / 91 л.с. / 4 такта  2 290 000 ₽  2022   \n",
       "2        Indian Scout  1 133 см³ / 100 л.с. / 4 такта  1 190 000 ₽  2018   \n",
       "3     Indian FTR 1200             1 200 см³ / 4 такта  1 520 000 ₽  2022   \n",
       "4   Indian Challenger  1 768 см³ / 122 л.с. / 4 такта  4 990 000 ₽  2023   \n",
       "\n",
       "    mileages  \n",
       "0   3 500 км  \n",
       "1   4 900 км  \n",
       "2   6 150 км  \n",
       "3  15 140 км  \n",
       "4      Новый  "
      ]
     },
     "execution_count": 56,
     "metadata": {},
     "output_type": "execute_result"
    }
   ],
   "source": [
    "df.head()"
   ]
  },
  {
   "cell_type": "code",
   "execution_count": 43,
   "id": "d4359150",
   "metadata": {},
   "outputs": [
    {
     "data": {
      "text/plain": [
       "(1170, 5)"
      ]
     },
     "execution_count": 43,
     "metadata": {},
     "output_type": "execute_result"
    }
   ],
   "source": [
    "df.shape"
   ]
  },
  {
   "cell_type": "code",
   "execution_count": null,
   "id": "dbb3909f",
   "metadata": {},
   "outputs": [],
   "source": []
  }
 ],
 "metadata": {
  "kernelspec": {
   "display_name": "Python 3 (ipykernel)",
   "language": "python",
   "name": "python3"
  },
  "language_info": {
   "codemirror_mode": {
    "name": "ipython",
    "version": 3
   },
   "file_extension": ".py",
   "mimetype": "text/x-python",
   "name": "python",
   "nbconvert_exporter": "python",
   "pygments_lexer": "ipython3",
   "version": "3.9.18"
  }
 },
 "nbformat": 4,
 "nbformat_minor": 5
}
