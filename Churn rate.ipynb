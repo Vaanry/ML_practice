{
 "cells": [
  {
   "cell_type": "markdown",
   "id": "0562cc71",
   "metadata": {},
   "source": [
    "Имеется датафрейм, представляющий собой данные об активности пользователей платформы онлайн-обучения. \n",
    "\n",
    "Колонки таблицы:\n",
    "\n",
    "1. day - дата\n",
    "\n",
    "2. user_id - идентификатор пользователя\n",
    "\n",
    "3. days_offline – число дней начиная с последнего захода на сайт (0 – если в этот день были решения; 1 – если сегодня пользователь не заходил на сайт, но заходил вчера; 2 – если позавчера и т.д.)\n",
    "\n",
    "3.\tavg_submits_14d – среднее число попыток за последние 14 дней\n",
    "\n",
    "4.\tsuccess_rate_14d –  доля успешных попыток за последние 14 дней\n",
    "\n",
    "5.\tsolved_total  – суммарное число успешных сабмитов (к настоящему дню)\n",
    "\n",
    "6.\ttarget_14d – был ли пользователь онлайн следующие 14 дней? (1 – если не был, 0 – если был)\n",
    "\n",
    "Необходимо построить модель, которая будет предсказывать активность пользователя в следущие 14 дней (target_14d)."
   ]
  },
  {
   "cell_type": "code",
   "execution_count": 1,
   "id": "59735ffa",
   "metadata": {},
   "outputs": [
    {
     "data": {
      "text/html": [
       "<div>\n",
       "<style scoped>\n",
       "    .dataframe tbody tr th:only-of-type {\n",
       "        vertical-align: middle;\n",
       "    }\n",
       "\n",
       "    .dataframe tbody tr th {\n",
       "        vertical-align: top;\n",
       "    }\n",
       "\n",
       "    .dataframe thead th {\n",
       "        text-align: right;\n",
       "    }\n",
       "</style>\n",
       "<table border=\"1\" class=\"dataframe\">\n",
       "  <thead>\n",
       "    <tr style=\"text-align: right;\">\n",
       "      <th></th>\n",
       "      <th>day</th>\n",
       "      <th>user_id</th>\n",
       "      <th>days_offline</th>\n",
       "      <th>avg_submits_14d</th>\n",
       "      <th>success_rate_14d</th>\n",
       "      <th>solved_total</th>\n",
       "      <th>target</th>\n",
       "    </tr>\n",
       "  </thead>\n",
       "  <tbody>\n",
       "    <tr>\n",
       "      <th>0</th>\n",
       "      <td>2022-06-22</td>\n",
       "      <td>785</td>\n",
       "      <td>0</td>\n",
       "      <td>6.0</td>\n",
       "      <td>0.166667</td>\n",
       "      <td>1</td>\n",
       "      <td>1</td>\n",
       "    </tr>\n",
       "    <tr>\n",
       "      <th>1</th>\n",
       "      <td>2022-06-23</td>\n",
       "      <td>785</td>\n",
       "      <td>1</td>\n",
       "      <td>3.0</td>\n",
       "      <td>0.166667</td>\n",
       "      <td>1</td>\n",
       "      <td>1</td>\n",
       "    </tr>\n",
       "    <tr>\n",
       "      <th>2</th>\n",
       "      <td>2022-06-24</td>\n",
       "      <td>785</td>\n",
       "      <td>2</td>\n",
       "      <td>2.0</td>\n",
       "      <td>0.166667</td>\n",
       "      <td>1</td>\n",
       "      <td>1</td>\n",
       "    </tr>\n",
       "    <tr>\n",
       "      <th>3</th>\n",
       "      <td>2022-06-25</td>\n",
       "      <td>785</td>\n",
       "      <td>3</td>\n",
       "      <td>1.5</td>\n",
       "      <td>0.166667</td>\n",
       "      <td>1</td>\n",
       "      <td>1</td>\n",
       "    </tr>\n",
       "    <tr>\n",
       "      <th>4</th>\n",
       "      <td>2022-06-26</td>\n",
       "      <td>785</td>\n",
       "      <td>4</td>\n",
       "      <td>1.2</td>\n",
       "      <td>0.166667</td>\n",
       "      <td>1</td>\n",
       "      <td>1</td>\n",
       "    </tr>\n",
       "  </tbody>\n",
       "</table>\n",
       "</div>"
      ],
      "text/plain": [
       "         day  user_id  days_offline  avg_submits_14d  success_rate_14d  \\\n",
       "0 2022-06-22      785             0              6.0          0.166667   \n",
       "1 2022-06-23      785             1              3.0          0.166667   \n",
       "2 2022-06-24      785             2              2.0          0.166667   \n",
       "3 2022-06-25      785             3              1.5          0.166667   \n",
       "4 2022-06-26      785             4              1.2          0.166667   \n",
       "\n",
       "   solved_total  target  \n",
       "0             1       1  \n",
       "1             1       1  \n",
       "2             1       1  \n",
       "3             1       1  \n",
       "4             1       1  "
      ]
     },
     "execution_count": 1,
     "metadata": {},
     "output_type": "execute_result"
    }
   ],
   "source": [
    "import warnings\n",
    "warnings.filterwarnings('ignore')\n",
    "import pandas as pd\n",
    "df = pd.read_csv('churn_features_total.csv', parse_dates=['day'])\n",
    "df.head()"
   ]
  },
  {
   "cell_type": "code",
   "execution_count": 2,
   "id": "3373c8b4",
   "metadata": {},
   "outputs": [
    {
     "data": {
      "text/plain": [
       "day                 datetime64[ns]\n",
       "user_id                      int64\n",
       "days_offline                 int64\n",
       "avg_submits_14d            float64\n",
       "success_rate_14d           float64\n",
       "solved_total                 int64\n",
       "target                       int64\n",
       "dtype: object"
      ]
     },
     "execution_count": 2,
     "metadata": {},
     "output_type": "execute_result"
    }
   ],
   "source": [
    "df.dtypes"
   ]
  },
  {
   "cell_type": "code",
   "execution_count": 3,
   "id": "f7c364b9",
   "metadata": {},
   "outputs": [
    {
     "data": {
      "text/plain": [
       "day                     0\n",
       "user_id                 0\n",
       "days_offline            0\n",
       "avg_submits_14d         0\n",
       "success_rate_14d    54554\n",
       "solved_total            0\n",
       "target                  0\n",
       "dtype: int64"
      ]
     },
     "execution_count": 3,
     "metadata": {},
     "output_type": "execute_result"
    }
   ],
   "source": [
    "df.isna().sum() # по всей видимости, пропуски возникли из-за деления на 0 при выгрузке данных"
   ]
  },
  {
   "cell_type": "code",
   "execution_count": 4,
   "id": "4349946f",
   "metadata": {},
   "outputs": [],
   "source": [
    "df = df.fillna(0)"
   ]
  },
  {
   "cell_type": "code",
   "execution_count": 5,
   "id": "ac3224ec",
   "metadata": {},
   "outputs": [],
   "source": [
    "df.sort_values(by='day', inplace=True) # отсортируем по датам для корректного сплитования\n",
    "max_date = df['day'].max() # максимальная дата"
   ]
  },
  {
   "cell_type": "code",
   "execution_count": 7,
   "id": "96212d0d",
   "metadata": {},
   "outputs": [],
   "source": [
    "#поскольку target - это значение за следущие 14 дней, \n",
    "#то в выгрузке не может быть значений за дату большую, чем за 14 дней до финальной даты выгрузки\n",
    "\n",
    "delta = pd.Timedelta(14, \"d\")\n",
    "df = df[df['day']<=max_date-delta] "
   ]
  },
  {
   "cell_type": "code",
   "execution_count": 12,
   "id": "462a1fa6",
   "metadata": {},
   "outputs": [],
   "source": [
    "X = df.drop(['target', 'user_id', 'day'], axis=1)\n",
    "y = df['target']"
   ]
  },
  {
   "cell_type": "code",
   "execution_count": 13,
   "id": "d64650f3",
   "metadata": {},
   "outputs": [
    {
     "name": "stdout",
     "output_type": "stream",
     "text": [
      "0.8990015997731012\n"
     ]
    }
   ],
   "source": [
    "from joblib import Parallel, delayed\n",
    "from sklearn.model_selection import train_test_split\n",
    "from sklearn.metrics import roc_auc_score\n",
    "from sklearn.model_selection import cross_val_score\n",
    "from sklearn.model_selection import TimeSeriesSplit\n",
    "from sklearn.preprocessing import StandardScaler\n",
    "from xgboost import XGBClassifier\n",
    "scaler = StandardScaler()\n",
    "\n",
    "X_train, X_test, y_train, y_test = train_test_split(X, y, test_size=0.33, random_state=42, shuffle=False)\n",
    "\n",
    "X_train = scaler.fit_transform(X_train)\n",
    "X_test = scaler.transform(X_test)\n",
    "\n",
    "time_split = TimeSeriesSplit(n_splits=10)\n",
    "model = XGBClassifier()\n",
    "score = cross_val_score(model, X_train, y_train, cv=time_split, scoring = 'roc_auc', n_jobs = 5).mean()\n",
    "print(score)"
   ]
  },
  {
   "cell_type": "code",
   "execution_count": 15,
   "id": "f47e455a",
   "metadata": {},
   "outputs": [
    {
     "name": "stdout",
     "output_type": "stream",
     "text": [
      "0.9012285766303876\n",
      "{'gamma': 0.5, 'learning_rate': 0.05, 'max_depth': 4, 'n_estimators': 180}\n"
     ]
    }
   ],
   "source": [
    "from sklearn.model_selection import GridSearchCV\n",
    "\n",
    "parameters = parameters = {\n",
    "                    'max_depth': range (2, 10, 1),\n",
    "                    'n_estimators': range(60, 220, 40),\n",
    "                    'learning_rate': [0.1, 0.01, 0.05],\n",
    "                    'gamma' : [0, 0.25, 0.5, 0.75,1],\n",
    "                }\n",
    "\n",
    "xgb_grid = GridSearchCV(model,\n",
    "                        parameters,\n",
    "                        scoring = 'roc_auc',\n",
    "                        cv = time_split,\n",
    "                        n_jobs = 5,\n",
    "                        verbose=False)\n",
    "\n",
    "xgb_grid.fit(X_train, y_train)\n",
    "\n",
    "print(xgb_grid.best_score_)\n",
    "print(xgb_grid.best_params_)"
   ]
  },
  {
   "cell_type": "code",
   "execution_count": 16,
   "id": "42064c4a",
   "metadata": {},
   "outputs": [
    {
     "name": "stdout",
     "output_type": "stream",
     "text": [
      "0.8370588763303085\n"
     ]
    }
   ],
   "source": [
    "churn_model = XGBClassifier(**xgb_grid.best_params_)\n",
    "churn_model.fit(X_train, y_train)\n",
    "y_pred = churn_model.predict(X_test)\n",
    "print(roc_auc_score(y_test, y_pred))"
   ]
  },
  {
   "cell_type": "code",
   "execution_count": 17,
   "id": "90efba04",
   "metadata": {},
   "outputs": [],
   "source": [
    "churn_model.save_model(\"churn_model.json\")"
   ]
  },
  {
   "cell_type": "markdown",
   "id": "41700a02",
   "metadata": {},
   "source": [
    "#### Confidence Interval for ROC-AUC\n",
    "\n",
    "Задача – реализовать оценку доверительного интервала для ROC-AUC с помощью бутстрепа."
   ]
  },
  {
   "cell_type": "code",
   "execution_count": 18,
   "id": "9194d356",
   "metadata": {},
   "outputs": [],
   "source": [
    "from typing import Tuple\n",
    "\n",
    "import numpy as np\n",
    "from sklearn.base import ClassifierMixin\n",
    "from sklearn.metrics import roc_auc_score\n",
    "\n",
    "\n",
    "def roc_auc_ci(\n",
    "    classifier: ClassifierMixin,\n",
    "    X: np.ndarray,\n",
    "    y: np.ndarray,\n",
    "    conf: float = 0.95,\n",
    "    n_bootstraps: int = 10_000,\n",
    ") -> Tuple[float, float]:\n",
    "    \"\"\"Returns confidence bounds of the ROC-AUC\n",
    "    \n",
    "     Args:\n",
    "        classifier : pretrained classification model\n",
    "        X (np.ndarray): X_test dataset\n",
    "        y (np.ndarray): y_test dataset\n",
    "        conf (): confidence interval size\n",
    "        n_bootstraps (int): numbers of subsamples\n",
    "        \n",
    "    Returns:\n",
    "        Tuple: confidence interval boundaries       \n",
    "        \"\"\"\n",
    "    alpha = 1-conf\n",
    "    indicies = len(X)\n",
    "    bootstrap_scores = []\n",
    "    y_pred = classifier.predict(X)\n",
    "    for _ in range(n_bootstraps):\n",
    "        bootstrap_index = np.random.choice(indicies, indicies, replace=True)\n",
    "        y_bootstrap = y[[bootstrap_index]]\n",
    "        y_pred_bootstrap = y_pred[[bootstrap_index]]\n",
    "        score = roc_auc_score(y_bootstrap, y_pred_bootstrap)\n",
    "        bootstrap_scores.append(score)\n",
    "        \n",
    "    lcb, ucb = np.quantile(bootstrap_scores, [alpha / 2, 1 - alpha / 2])    \n",
    "    return (lcb, ucb)"
   ]
  },
  {
   "cell_type": "code",
   "execution_count": 19,
   "id": "8648e056",
   "metadata": {},
   "outputs": [
    {
     "name": "stdout",
     "output_type": "stream",
     "text": [
      "(0.832307856549372, 0.8421314154367814)\n"
     ]
    }
   ],
   "source": [
    "y_values = y_test.values\n",
    "ci = roc_auc_ci(churn_model, X_test, y_values, 0.95, 1000)\n",
    "print(ci)"
   ]
  },
  {
   "cell_type": "markdown",
   "id": "30862e1e",
   "metadata": {},
   "source": [
    "#### Uncalibrated Probabilities"
   ]
  },
  {
   "cell_type": "markdown",
   "id": "78ca3355",
   "metadata": {},
   "source": [
    "Необходимо реализовать 4 функции: 2 для кривых и 2 для отсечек. Для кривых также необходимо построить доверительный интервал. \n",
    "\n",
    "На входе:\n",
    "\n",
    "•\ty_true – лейблы 0 или 1 (размерности N)\n",
    "\n",
    "•\ty_prob – вероятности, предсказанные моделью (размерности N)\n",
    "\n",
    "•\tmin_precision / min_specificity – Precision/Specificity по которым отсекаем порог\n",
    "\n",
    "•\tconf – размер дов.интервала\n",
    "\n",
    "•\tn_bootstrap – число бутстрэпнутых выборок\n",
    "\n",
    "На выходе:\n",
    "\n",
    "•\tthreshold_proba – значение вероятности, по которому берётся отсечка\n",
    "\n",
    "•\tmax_recall – значение Recall при этой отсечке\n",
    "\n",
    "•\trecall, precision, specificity – Recall/Precision/Specificity при разных отсечках, все представляют собой массивы размера N+1 (мы можем поставить отсечку как между каждой парой соседних элементов, так и по краям)\n",
    "\n",
    "•\tprecision_lcb / precision_ucb / specificity_lcb / specificity_ucb – границы дов.интервала бутстрепнутой Precision-Recall или Sensitivity-Specificity кривых (также размера N+1)"
   ]
  },
  {
   "cell_type": "code",
   "execution_count": 260,
   "id": "bedba23f",
   "metadata": {},
   "outputs": [],
   "source": [
    "from typing import Tuple\n",
    "from sklearn.metrics import precision_recall_curve, roc_curve\n",
    "import numpy as np\n",
    "\n",
    "y_prob = churn_model.predict_proba(X_test)[:,1]\n",
    "\n",
    "\n",
    "def pr_threshold(\n",
    "    y_true: np.ndarray,\n",
    "    y_prob: np.ndarray,\n",
    "    min_precision: float,\n",
    ") -> Tuple[float, float]:\n",
    "    \"\"\"Returns threshold and recall (from Precision-Recall Curve)\"\"\"\n",
    "    precision, recall, thresholds = precision_recall_curve(y_true, y_prob)\n",
    "    idx_threshold = np.where(precision>=min_precision)[0][0]\n",
    "    threshold_proba = thresholds[idx_threshold]\n",
    "    max_recall = recall[idx_threshold]\n",
    "    return threshold_proba, max_recall\n",
    "\n",
    "\n",
    "def sr_threshold(\n",
    "    y_true: np.ndarray,\n",
    "    y_prob: np.ndarray,\n",
    "    min_specificity: float,\n",
    ") -> Tuple[float, float]:\n",
    "    \"\"\"Returns threshold and recall (from Specificity-Recall Curve)\"\"\"\n",
    "    fpr, sensitivity, thresholds = roc_curve(y_test, y_prob)\n",
    "    specificity = 1-fpr\n",
    "    idx_threshold = np.where(specificity[::-1]>=min_specificity)[0][0]\n",
    "    threshold_proba = thresholds[idx_threshold]\n",
    "    max_sensitivity = sensitivity[idx_threshold]\n",
    "    \n",
    "    return threshold_proba, max_sensitivity\n",
    "\n",
    "\n",
    "def pr_curve(\n",
    "    y_true: np.ndarray,\n",
    "    y_prob: np.ndarray,\n",
    "    conf: float = 0.95,\n",
    "    n_bootstrap: int = 10_000,\n",
    ") -> Tuple[np.ndarray, np.ndarray, np.ndarray, np.ndarray]:\n",
    "    \"\"\"Returns Precision-Recall curve and it's (LCB, UCB)\"\"\"\n",
    "    precision, recall, _ = precision_recall_curve(y_true, y_prob)\n",
    "    \n",
    "    alpha = 1-conf\n",
    "    indicies = len(y_true)\n",
    "    precision_scores = []\n",
    "    scores = len(precision)\n",
    "\n",
    "    precision_scores = []\n",
    "\n",
    "    for _ in range(100):\n",
    "        bootstrap_index = np.random.choice(indicies, indicies, replace=True)\n",
    "        y_bootstrap = y_values[[bootstrap_index]]\n",
    "        y_prob_bootstrap = y_prob[[bootstrap_index]]\n",
    "        precision_boot, _, _ = precision_recall_curve(y_bootstrap, y_prob_bootstrap)\n",
    "        precision_scores.append(precision_boot)\n",
    "\n",
    "    boot_scores = [[score[i] for score in precision_scores] for i in range(scores)]\n",
    "    ci = list(map(lambda x: np.quantile(x, [alpha / 2, 1 - alpha / 2]), boot_scores))\n",
    "    precision_lcb = np.array([i[0] for i in ci])\n",
    "    precision_ucb = np.array([i[1] for i in ci])\n",
    "\n",
    "    return recall, precision, precision_lcb, precision_ucb\n",
    "\n",
    "def sr_curve(\n",
    "    y_true: np.ndarray,\n",
    "    y_prob: np.ndarray,\n",
    "    conf: float = 0.95,\n",
    "    n_bootstrap: int = 10_000,\n",
    ") -> Tuple[np.ndarray, np.ndarray, np.ndarray, np.ndarray]:\n",
    "    \"\"\"Returns Specificity-Recall curve and it's (LCB, UCB)\"\"\"\n",
    "    \n",
    "    fpr, sensitivity, thresholds = roc_curve(y_test, y_prob)\n",
    "    specificity = 1-fpr\n",
    "\n",
    "    alpha = 1-conf\n",
    "    indicies = len(y_true)\n",
    "    precision_scores = []\n",
    "    scores = len(sensitivity)\n",
    "\n",
    "    specificity_scores = []\n",
    "\n",
    "    for _ in range(100):\n",
    "        bootstrap_index = np.random.choice(indicies, indicies, replace=True)\n",
    "        y_bootstrap = y_values[[bootstrap_index]]\n",
    "        y_prob_bootstrap = y_prob[[bootstrap_index]]\n",
    "        fpr_boot, _, _  = roc_curve(y_bootstrap, y_prob_bootstrap)\n",
    "        specificity_boot = 1-fpr_boot\n",
    "        specificity_scores.append(specificity_boot)\n",
    "\n",
    "    boot_scores = [[score[i] for score in precision_scores] for i in range(scores)]\n",
    "    ci = list(map(lambda x: np.quantile(x, [alpha / 2, 1 - alpha / 2]), boot_scores))\n",
    "    specificity_lcb = np.array([i[0] for i in ci])\n",
    "    specificity_ucb = np.array([i[1] for i in ci])    \n",
    "        \n",
    "    return sensitivity, specificity, specificity_lcb, specificity_ucb"
   ]
  },
  {
   "cell_type": "code",
   "execution_count": 191,
   "id": "42f08b01",
   "metadata": {},
   "outputs": [
    {
     "name": "stderr",
     "output_type": "stream",
     "text": [
      "No artists with labels found to put in legend.  Note that artists whose label start with an underscore are ignored when legend() is called with no argument.\n"
     ]
    },
    {
     "data": {
      "image/png": "[encoded data removed]",
      "text/plain": [
       "<Figure size 640x480 with 1 Axes>"
      ]
     },
     "metadata": {},
     "output_type": "display_data"
    }
   ],
   "source": [
    "import matplotlib.pyplot as plt\n",
    "# plot the precision-recall curves\n",
    "\n",
    "plt.plot(recall, precision, marker='.')\n",
    "# axis labels\n",
    "plt.xlabel('Recall')\n",
    "plt.ylabel('Precision')\n",
    "# show the legend\n",
    "plt.legend()\n",
    "# show the plot\n",
    "plt.show()"
   ]
  },
  {
   "cell_type": "code",
   "execution_count": 189,
   "id": "c1db79d7",
   "metadata": {},
   "outputs": [
    {
     "name": "stderr",
     "output_type": "stream",
     "text": [
      "No artists with labels found to put in legend.  Note that artists whose label start with an underscore are ignored when legend() is called with no argument.\n"
     ]
    },
    {
     "data": {
      "image/png": "[encoded data removed]",
      "text/plain": [
       "<Figure size 640x480 with 1 Axes>"
      ]
     },
     "metadata": {},
     "output_type": "display_data"
    }
   ],
   "source": [
    "# plot the specificity-sensitivity curves\n",
    "\n",
    "plt.plot(specificity, sensitivity, marker='.')\n",
    "# axis labels\n",
    "plt.xlabel('Specificity')\n",
    "plt.ylabel('Sensitivity')\n",
    "# show the legend\n",
    "plt.legend()\n",
    "# show the plot\n",
    "plt.show()"
   ]
  },
  {
   "cell_type": "code",
   "execution_count": 20,
   "id": "37156aff",
   "metadata": {},
   "outputs": [
    {
     "data": {
      "text/html": [
       "<div>\n",
       "<style scoped>\n",
       "    .dataframe tbody tr th:only-of-type {\n",
       "        vertical-align: middle;\n",
       "    }\n",
       "\n",
       "    .dataframe tbody tr th {\n",
       "        vertical-align: top;\n",
       "    }\n",
       "\n",
       "    .dataframe thead th {\n",
       "        text-align: right;\n",
       "    }\n",
       "</style>\n",
       "<table border=\"1\" class=\"dataframe\">\n",
       "  <thead>\n",
       "    <tr style=\"text-align: right;\">\n",
       "      <th></th>\n",
       "      <th>day</th>\n",
       "      <th>user_id</th>\n",
       "      <th>days_offline</th>\n",
       "      <th>avg_submits_14d</th>\n",
       "      <th>success_rate_14d</th>\n",
       "      <th>solved_total</th>\n",
       "      <th>target</th>\n",
       "    </tr>\n",
       "  </thead>\n",
       "  <tbody>\n",
       "    <tr>\n",
       "      <th>103897</th>\n",
       "      <td>2022-01-07</td>\n",
       "      <td>4438</td>\n",
       "      <td>19174</td>\n",
       "      <td>0.0</td>\n",
       "      <td>0.0</td>\n",
       "      <td>0</td>\n",
       "      <td>0</td>\n",
       "    </tr>\n",
       "    <tr>\n",
       "      <th>62523</th>\n",
       "      <td>2022-01-07</td>\n",
       "      <td>3045</td>\n",
       "      <td>19174</td>\n",
       "      <td>0.0</td>\n",
       "      <td>0.0</td>\n",
       "      <td>0</td>\n",
       "      <td>0</td>\n",
       "    </tr>\n",
       "    <tr>\n",
       "      <th>53161</th>\n",
       "      <td>2022-01-07</td>\n",
       "      <td>2714</td>\n",
       "      <td>19174</td>\n",
       "      <td>0.0</td>\n",
       "      <td>0.0</td>\n",
       "      <td>0</td>\n",
       "      <td>0</td>\n",
       "    </tr>\n",
       "    <tr>\n",
       "      <th>30662</th>\n",
       "      <td>2022-01-07</td>\n",
       "      <td>1890</td>\n",
       "      <td>19174</td>\n",
       "      <td>0.0</td>\n",
       "      <td>0.0</td>\n",
       "      <td>0</td>\n",
       "      <td>0</td>\n",
       "    </tr>\n",
       "    <tr>\n",
       "      <th>8767</th>\n",
       "      <td>2022-01-07</td>\n",
       "      <td>1082</td>\n",
       "      <td>19174</td>\n",
       "      <td>0.0</td>\n",
       "      <td>0.0</td>\n",
       "      <td>0</td>\n",
       "      <td>1</td>\n",
       "    </tr>\n",
       "  </tbody>\n",
       "</table>\n",
       "</div>"
      ],
      "text/plain": [
       "              day  user_id  days_offline  avg_submits_14d  success_rate_14d  \\\n",
       "103897 2022-01-07     4438         19174              0.0               0.0   \n",
       "62523  2022-01-07     3045         19174              0.0               0.0   \n",
       "53161  2022-01-07     2714         19174              0.0               0.0   \n",
       "30662  2022-01-07     1890         19174              0.0               0.0   \n",
       "8767   2022-01-07     1082         19174              0.0               0.0   \n",
       "\n",
       "        solved_total  target  \n",
       "103897             0       0  \n",
       "62523              0       0  \n",
       "53161              0       0  \n",
       "30662              0       0  \n",
       "8767               0       1  "
      ]
     },
     "execution_count": 20,
     "metadata": {},
     "output_type": "execute_result"
    }
   ],
   "source": [
    "df.head()"
   ]
  },
  {
   "cell_type": "code",
   "execution_count": null,
   "id": "bca1f45c",
   "metadata": {},
   "outputs": [],
   "source": []
  }
 ],
 "metadata": {
  "kernelspec": {
   "display_name": "Python 3 (ipykernel)",
   "language": "python",
   "name": "python3"
  },
  "language_info": {
   "codemirror_mode": {
    "name": "ipython",
    "version": 3
   },
   "file_extension": ".py",
   "mimetype": "text/x-python",
   "name": "python",
   "nbconvert_exporter": "python",
   "pygments_lexer": "ipython3",
   "version": "3.9.18"
  }
 },
 "nbformat": 4,
 "nbformat_minor": 5
}
